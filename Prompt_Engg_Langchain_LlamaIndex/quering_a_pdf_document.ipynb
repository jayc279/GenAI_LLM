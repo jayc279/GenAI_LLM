{
 "cells": [
  {
   "cell_type": "markdown",
   "id": "2a29b2d2-3947-440b-8ca7-e730c201eb71",
   "metadata": {},
   "source": [
    "### Query a PDF document read from a directory"
   ]
  },
  {
   "cell_type": "markdown",
   "id": "0dca312a-d3b7-418c-a2cc-fade0b2d3b57",
   "metadata": {},
   "source": [
    "For this model we will use **OpenAI** (requires an API Token to access)  \n",
    "checkout `Account setup` section in  \n",
    "https://platform.openai.com/docs/quickstart?context=python "
   ]
  },
  {
   "cell_type": "markdown",
   "id": "e44fd42b-02bf-4088-a72e-156645cbb34c",
   "metadata": {},
   "source": [
    "### Sample environmet file holding API Tokens\n",
    "import os                                                                                                                                                                                                                   \n",
    "SERPAPI_API_KEY=\"**Google**\"  \n",
    "HF_TOKEN=\"**HuggingFaces**\"    \n",
    "GITHUB_TOKEN=\"**GitHub**\"   \n",
    "OPENAI_API_KEY=\"**OpenAI**\"    \n",
    "  \n",
    "def set_environment():  \n",
    "    &nbsp;&nbsp;variable_dict = globals().items()  \n",
    "    &nbsp;&nbsp;for key, value in variable_dict:  \n",
    "        &nbsp;&nbsp;if \"API\" in key or \"ID\" in key or \"TOKEN\" in key:  \n",
    "            &nbsp;&nbsp;&nbsp;&nbsp;os.environ[key] = value  \n",
    "  "
   ]
  },
  {
   "cell_type": "code",
   "execution_count": 2,
   "id": "76bf19a8-f157-4dfd-833a-03627a9983e7",
   "metadata": {},
   "outputs": [],
   "source": [
    "%load_ext autoreload\n",
    "%autoreload 2\n",
    "import os\n",
    "from pathlib import Path\n",
    "import sys\n",
    "## READ your OPENAI_API_KEY from .env file -or- setup as ENV\n",
    "# os.environ['OPENAI_API_KEY'] = \"<your OpenAI access token>\"\n",
    "sys.path.append(r'..')\n",
    "from configs import set_environment\n",
    "set_environment()"
   ]
  },
  {
   "cell_type": "code",
   "execution_count": 7,
   "id": "f8aaede8-5216-4fe6-9720-33cc1cbcd715",
   "metadata": {},
   "outputs": [],
   "source": [
    "# Initial imports\n",
    "from langchain.llms import OpenAI\n",
    "from langchain.chains import LLMChain\n",
    "from langchain.prompts import PromptTemplate\n",
    "from langchain.chat_models import ChatOpenAI"
   ]
  },
  {
   "cell_type": "code",
   "execution_count": 10,
   "id": "0595ed66-736d-4a5f-aefa-b93dacd397b0",
   "metadata": {},
   "outputs": [],
   "source": [
    "# load related packaged to split, embed, store\n",
    "from langchain.embeddings import OpenAIEmbeddings\n",
    "from langchain.text_splitter import RecursiveCharacterTextSplitter\n",
    "from langchain.embeddings.openai import OpenAIEmbeddings\n",
    "from langchain.vectorstores import Chroma\n",
    "from langchain.chains import ConversationalRetrievalChain"
   ]
  },
  {
   "cell_type": "markdown",
   "id": "c2a13b40-55f4-4a66-ad92-1f5022a5fb4c",
   "metadata": {},
   "source": [
    "### Query PDF document"
   ]
  },
  {
   "cell_type": "code",
   "execution_count": 11,
   "id": "04152c43-84f3-4be6-9f8e-ab4f69dffc52",
   "metadata": {},
   "outputs": [],
   "source": [
    "from langchain.document_loaders import PyPDFLoader       # load .pdf file\n",
    "from langchain.document_loaders import Docx2txtLoader    # load .docx file\n",
    "from langchain.document_loaders import TextLoader        # load .txt file"
   ]
  },
  {
   "cell_type": "code",
   "execution_count": 12,
   "id": "b620da73-883d-4066-a002-2d5fcdf04aa3",
   "metadata": {},
   "outputs": [
    {
     "name": "stdout",
     "output_type": "stream",
     "text": [
      "name:falcon-users-guide-2021-09 - extension:.pdf\n"
     ]
    }
   ],
   "source": [
    "# load PDF document\n",
    "file_name = \"./data/falcon-users-guide-2021-09.pdf\"\n",
    "name, ext = os.path.splitext(file_name)\n",
    "print(f\"name:{name} - extension:{ext}\")"
   ]
  },
  {
   "cell_type": "code",
   "execution_count": 13,
   "id": "7e613c1d-632f-4d03-8723-bfd7a0ad450d",
   "metadata": {},
   "outputs": [],
   "source": [
    "if ext == \".pdf\":\n",
    "  uploded_file = PyPDFLoader(file_name)"
   ]
  },
  {
   "cell_type": "code",
   "execution_count": 14,
   "id": "58f0debe-8251-44af-8591-053039c0d5b5",
   "metadata": {},
   "outputs": [
    {
     "name": "stderr",
     "output_type": "stream",
     "text": [
      "Overwriting cache for 0 11250\n"
     ]
    }
   ],
   "source": [
    "# load document\n",
    "document = uploded_file.load()\n",
    "\n",
    "# split document into chunks - chunk_size = 1000, and chunk_overlap = 150\n",
    "text_chunks = RecursiveCharacterTextSplitter(chunk_size=1000, chunk_overlap=150)\n",
    "\n",
    "# split document as per txt_chunks\n",
    "chunks = text_chunks.split_documents(document)\n",
    "\n",
    "# get OpenAI Embeddings\n",
    "embeddings = OpenAIEmbeddings()\n",
    "\n",
    "# Use Chroma to store vectors of embeddings\n",
    "vector_store = Chroma.from_documents(chunks, embeddings)\n"
   ]
  },
  {
   "cell_type": "code",
   "execution_count": 19,
   "id": "185df5ca-66a2-42a9-b9e1-280d2bdc1566",
   "metadata": {},
   "outputs": [
    {
     "data": {
      "text/plain": [
       "Document(page_content='© Space Exploration Technologies Corp.  All rights reserved.  1 \\n \\n \\n \\nThe Falcon launch vehicle user’s guide is a planning document provided for customers of Space X (Space Exploration \\nTechnologies Corp.). This document is applicable to the Falcon vehicle configuration s with a 5.2 m ( 17-ft) diameter \\nfairing and the related launch service (Section  2). \\nThis user’s guide is intended for pre -contract mission planning and for understanding SpaceX’s standard services. The \\nuser’s guide is not intended for detailed design use. Data for detailed design purposes will be exchanged directly between \\na SpaceX customer and a SpaceX mission manager.   \\nSpac eX reserves the right to update this user’s guide as required. Future revisions are assumed to always be in process \\nas SpaceX gathers additional data and works to improve its launch vehicle design.  \\n \\nSpaceX  offers  a family of launch vehic les that improve s launch  reliability and  increase s access to space. The company', metadata={'source': 'falcon-users-guide-2021-09.pdf', 'page': 4})"
      ]
     },
     "execution_count": 19,
     "metadata": {},
     "output_type": "execute_result"
    }
   ],
   "source": [
    "# some verification\n",
    "chunks[20]"
   ]
  },
  {
   "cell_type": "code",
   "execution_count": 72,
   "id": "5d888894-d4ad-460a-b2a5-9b59dca61101",
   "metadata": {},
   "outputs": [
    {
     "name": "stdout",
     "output_type": "stream",
     "text": [
      "<class 'langchain_community.embeddings.openai.OpenAIEmbeddings'>\n",
      "<class 'str'>\n",
      "[0.012253612080443187, 0.00555551788108997, -0.015626605345768544, -0.02889964123714779, -0.008996928895600685, -0.0010382387385281654, -0.02378199583325705, -0.019307477085444176, -0.018814870781425685, -0.014422453705164264, 0.010584220117907488, 0.01005056204679071, -0.01527083267747565, -0.015188731937246755, -0.005360527808139104, 0.02508193213645632, 0.006947818564784627, -0.030678500853322018, 4.270761859123458e-05, 0.014449820618573896]\n"
     ]
    }
   ],
   "source": [
    "# Embeddings are Numerical representation of text data - high dimensional vectors\n",
    "print(type(embeddings))\n",
    "str_ch20 = str(str(chunks[20]).split(' \\\\n')[0])   # split and convert to string\n",
    "print(type(str_ch20))\n",
    "\n",
    "## print part of chunk to view embeddings\n",
    "print(embeddings.embed_query(str_ch20)[:20])"
   ]
  },
  {
   "cell_type": "markdown",
   "id": "514bd333-0f51-411d-806f-06c5bf3395c8",
   "metadata": {},
   "source": [
    "### ChatGPT"
   ]
  },
  {
   "cell_type": "code",
   "execution_count": 44,
   "id": "12e5fd20-51dd-4f40-a65d-a2259e6cbff3",
   "metadata": {},
   "outputs": [],
   "source": [
    "# setup ChatOpenAI\n",
    "llm = ChatOpenAI(api_key=os.environ['OpenAI_API_KEY'], \n",
    "                 model='gpt-3.5-turbo', \n",
    "                 temperature=0.1, \n",
    "                 max_tokens=100)"
   ]
  },
  {
   "cell_type": "code",
   "execution_count": 45,
   "id": "447741e3-fc20-42a5-9ab7-23f492ed7561",
   "metadata": {},
   "outputs": [],
   "source": [
    "# retrieve document from vector store\n",
    "retriever = vector_store.as_retriever()"
   ]
  },
  {
   "cell_type": "code",
   "execution_count": 46,
   "id": "941179c7-6f78-42dd-9dea-086c1a77316d",
   "metadata": {},
   "outputs": [],
   "source": [
    "# setup retrieval chain\n",
    "conv_ret_chain = ConversationalRetrievalChain.from_llm(llm, retriever=retriever)"
   ]
  },
  {
   "cell_type": "code",
   "execution_count": 70,
   "id": "7d744641-bf5b-4a71-859b-10561f0a4b2b",
   "metadata": {},
   "outputs": [
    {
     "name": "stdout",
     "output_type": "stream",
     "text": [
      "<class 'dict'>\n"
     ]
    }
   ],
   "source": [
    "# start asking questions\n",
    "session_chat = {}\n",
    "session_chat['history'] = []\n",
    "print(type(session_chat))\n",
    "def ask_questions():\n",
    "  question = input(\"Enter your question: \")\n",
    "  if \"Thank\" in question:\n",
    "    print(\"Thank you for using ChatGPT\")\n",
    "    return\n",
    "  else:\n",
    "    response = conv_ret_chain.run({'question':question,\n",
    "                                  'chat_history':session_chat['history']})\n",
    "    print(response, end=\"\\n\\n\")\n",
    "    session_chat['history'].append((question, response))\n",
    "    ask_questions()"
   ]
  },
  {
   "cell_type": "code",
   "execution_count": 71,
   "id": "226203ee-4ffd-423a-bd1f-d0beec4eb5c8",
   "metadata": {},
   "outputs": [
    {
     "name": "stdin",
     "output_type": "stream",
     "text": [
      "Enter your question:  in 3 sentences summarize how \"Elon Musk\" got investments to \"Tesla Motors\"\n"
     ]
    },
    {
     "name": "stdout",
     "output_type": "stream",
     "text": [
      "Elon Musk co-founded Tesla Motors in 2003 and invested a significant amount of his own money into the company. He also secured investments from other co-founders, including Martin Eberhard and Marc Tarpenning, as well as external investors like JB Straubel and Ian Wright. Musk's vision for electric vehicles and sustainable energy attracted further investments as the company grew and gained traction in the market.\n"
     ]
    },
    {
     "name": "stdin",
     "output_type": "stream",
     "text": [
      "Enter your question:  In one sentence summarize SpaceX\n"
     ]
    },
    {
     "name": "stdout",
     "output_type": "stream",
     "text": [
      "SpaceX is a private aerospace company founded by Elon Musk that focuses on developing reliable, cost-effective launch vehicles like the Falcon family to increase access to space for commercial, government, and international customers.\n"
     ]
    },
    {
     "name": "stdin",
     "output_type": "stream",
     "text": [
      "Enter your question:  Thank You\n"
     ]
    },
    {
     "name": "stdout",
     "output_type": "stream",
     "text": [
      "Thank you for using ChatGPT\n"
     ]
    }
   ],
   "source": [
    "ask_questions()"
   ]
  },
  {
   "cell_type": "code",
   "execution_count": 69,
   "id": "9e5d6ae3-bf9c-4623-9c2b-59546633050f",
   "metadata": {},
   "outputs": [
    {
     "name": "stdin",
     "output_type": "stream",
     "text": [
      "Enter your question:  Thank You\n"
     ]
    },
    {
     "name": "stdout",
     "output_type": "stream",
     "text": [
      "Thank you for using ChatGPT\n"
     ]
    }
   ],
   "source": [
    "ask_questions()"
   ]
  },
  {
   "cell_type": "code",
   "execution_count": null,
   "id": "77e7e2f8-56a6-4cd3-af7b-2bd31bdfc7c4",
   "metadata": {},
   "outputs": [],
   "source": []
  }
 ],
 "metadata": {
  "kernelspec": {
   "display_name": "Python 3 (ipykernel)",
   "language": "python",
   "name": "python3"
  },
  "language_info": {
   "codemirror_mode": {
    "name": "ipython",
    "version": 3
   },
   "file_extension": ".py",
   "mimetype": "text/x-python",
   "name": "python",
   "nbconvert_exporter": "python",
   "pygments_lexer": "ipython3",
   "version": "3.8.19"
  }
 },
 "nbformat": 4,
 "nbformat_minor": 5
}
