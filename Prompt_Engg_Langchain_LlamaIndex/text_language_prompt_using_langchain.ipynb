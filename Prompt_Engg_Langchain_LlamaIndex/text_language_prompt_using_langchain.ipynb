{
 "cells": [
  {
   "cell_type": "markdown",
   "id": "9b9c827f-264d-4407-9bec-d3d35875196d",
   "metadata": {},
   "source": [
    "## Simple Prompt Engineering using LangChain - OpenAI and ChatOpenAI"
   ]
  },
  {
   "cell_type": "markdown",
   "id": "3fde9672-7372-4552-86b3-5cfe8f92298c",
   "metadata": {},
   "source": [
    "The key to eliciting right response from AI is:\n",
    "- Instruction: prompting the System to generate response as someone\n",
    "- Query: framing the question/query by choosing the right wording\n",
    "- Completion: asking the response to be framed a certain way (bullet points, score card, json, etc..)\n",
    "\n",
    "Except for `Query` rest are optional (rest can include exmample i/p and o/p - few shot)"
   ]
  },
  {
   "cell_type": "markdown",
   "id": "370b4960-e203-4bc5-9941-37f91f7be5f0",
   "metadata": {},
   "source": [
    "**LangChain** provides support via `PromptTemplate` for `prompt engineering`"
   ]
  },
  {
   "cell_type": "markdown",
   "id": "27486a5d-e464-4fed-8840-b722422fa021",
   "metadata": {},
   "source": [
    "For this model we will use **OpenAI** (requires an API Token to access)  \n",
    "checkout `Account setup` section in  \n",
    "https://platform.openai.com/docs/quickstart?context=python \n"
   ]
  },
  {
   "cell_type": "markdown",
   "id": "ce361f7b-7792-45a6-8d76-492c759caceb",
   "metadata": {},
   "source": [
    "### Sample environmet file holding API Tokens\n",
    "import os                                                                                                                                                                                                                   \n",
    "SERPAPI_API_KEY=\"**Google**\"  \n",
    "HF_TOKEN=\"**HuggingFaces**\"    \n",
    "GITHUB_TOKEN=\"**GitHub**\"   \n",
    "OPENAI_API_KEY=\"**OpenAI**\"    \n",
    "  \n",
    "def set_environment():  \n",
    "    &nbsp;&nbsp;variable_dict = globals().items()  \n",
    "    &nbsp;&nbsp;for key, value in variable_dict:  \n",
    "        &nbsp;&nbsp;if \"API\" in key or \"ID\" in key or \"TOKEN\" in key:  \n",
    "            &nbsp;&nbsp;&nbsp;&nbsp;os.environ[key] = value  \n",
    "  "
   ]
  },
  {
   "cell_type": "code",
   "execution_count": 7,
   "id": "76418869-2929-4d2a-bcfe-9fddd4cfe016",
   "metadata": {},
   "outputs": [
    {
     "name": "stdout",
     "output_type": "stream",
     "text": [
      "The autoreload extension is already loaded. To reload it, use:\n",
      "  %reload_ext autoreload\n"
     ]
    }
   ],
   "source": [
    "%load_ext autoreload\n",
    "%autoreload 2\n",
    "import os\n",
    "from pathlib import Path\n",
    "import sys\n",
    "## READ your OPENAI_API_KEY from .env file -or- setup as ENV\n",
    "# os.environ['OPENAI_API_KEY'] = \"<your OpenAI access token>\"\n",
    "sys.path.append(r'..')\n",
    "from configs import set_environment\n",
    "set_environment()"
   ]
  },
  {
   "cell_type": "code",
   "execution_count": 12,
   "id": "6dcfad9e-9b90-4051-aa8b-ef0d7c223c6f",
   "metadata": {},
   "outputs": [
    {
     "name": "stdin",
     "output_type": "stream",
     "text": [
      "Enter your simple query:  covid\n",
      "Enter language to translate to:  german\n"
     ]
    }
   ],
   "source": [
    "# get inputs from User\n",
    "user_input = input('Enter your simple query: ')\n",
    "language = input('Enter language to translate to: ')"
   ]
  },
  {
   "cell_type": "code",
   "execution_count": 18,
   "id": "0403166b-27da-4047-bac5-8d906efb6243",
   "metadata": {},
   "outputs": [
    {
     "name": "stdout",
     "output_type": "stream",
     "text": [
      "user_input:covid\n",
      "in language:german\n"
     ]
    }
   ],
   "source": [
    "print(f\"user_input:{user_input}\")\n",
    "print(f\"in language:{language}\")"
   ]
  },
  {
   "cell_type": "markdown",
   "id": "3ab146a0-5026-48ff-b1e9-89ad87b34789",
   "metadata": {},
   "source": [
    "### Using OpenAI to generate completion"
   ]
  },
  {
   "cell_type": "code",
   "execution_count": 31,
   "id": "d8f203e1-5b01-4602-9e9a-a3a2312284f9",
   "metadata": {},
   "outputs": [],
   "source": [
    "from langchain.llms import OpenAI\n",
    "from langchain.prompts import PromptTemplate\n",
    "llm=OpenAI(temperature=0.2, max_tokens=100)"
   ]
  },
  {
   "cell_type": "code",
   "execution_count": 37,
   "id": "7b11ebfd-1779-4970-94d4-6072fda3138a",
   "metadata": {},
   "outputs": [],
   "source": [
    "### Create a simple template with one query to OpenAI\n",
    "template = PromptTemplate.from_template(\n",
    "  \"Summarize {user_input} in {language}\"\n",
    ")\n",
    "\n",
    "# format prompt template to include variables\n",
    "prompt = template.format(user_input=user_input, language=language)"
   ]
  },
  {
   "cell_type": "code",
   "execution_count": 33,
   "id": "b5429a26-8582-49e7-9ac7-85464c0dd369",
   "metadata": {},
   "outputs": [
    {
     "name": "stdout",
     "output_type": "stream",
     "text": [
      "\n",
      "\n",
      "Covid-19 ist eine ansteckende Krankheit, die durch das neuartige Coronavirus verursacht wird. Es wurde erstmals in der chinesischen Stadt Wuhan im Dezember 2019 entdeckt und hat sich seitdem weltweit ausgebreitet. Die Symptome können von milden Erkältungssymptomen bis hin zu schweren Atemwegserkrankungen variieren und können sogar tödlich sein. Die Übertrag\n"
     ]
    }
   ],
   "source": [
    "# generate completion\n",
    "response = llm(prompt)\n",
    "print(response)"
   ]
  },
  {
   "cell_type": "markdown",
   "id": "47b1a6df-cba6-4799-8b69-53f3e5de62d9",
   "metadata": {},
   "source": [
    "### Using ChatOpenAI"
   ]
  },
  {
   "cell_type": "code",
   "execution_count": 34,
   "id": "d7b3fcde-bc1e-40d7-a5b7-b05788937f17",
   "metadata": {},
   "outputs": [],
   "source": [
    "from langchain.chat_models import ChatOpenAI\n",
    "llm = ChatOpenAI(api_key=os.environ['OpenAI_API_KEY'], \n",
    "                 model='gpt-3.5-turbo', \n",
    "                 temperature=0.1, \n",
    "                 max_tokens=100)"
   ]
  },
  {
   "cell_type": "code",
   "execution_count": 36,
   "id": "75a9e1ed-966e-4c06-8679-d48683899002",
   "metadata": {},
   "outputs": [
    {
     "name": "stdout",
     "output_type": "stream",
     "text": [
      "COVID-19 ist eine durch das Coronavirus SARS-CoV-2 verursachte Infektionskrankheit, die weltweit eine Pandemie ausgelöst hat. Die Symptome können von milden Erkältungserscheinungen bis hin zu schweren Atemwegsproblemen und Lungenentzündung reichen. Die Übertragung erfolgt hauptsächlich durch Tröpfcheninfektion beim Husten, Niesen oder Spre"
     ]
    }
   ],
   "source": [
    "from langchain.schema import StrOutputParser\n",
    "from langchain.prompts import ChatPromptTemplate\n",
    "\n",
    "prompt = ChatPromptTemplate.from_messages(\n",
    "    [\n",
    "        (\n",
    "            \"system\",\n",
    "            \"You are an expert in medical sciences. Summarize and respond accurately\",\n",
    "        ),\n",
    "        (\"human\", \"{question}\"),\n",
    "    ]\n",
    ")\n",
    "run_chain = prompt | llm | StrOutputParser()\n",
    "\n",
    "for chunk in run_chain.stream({\"question\": template.format(user_input=user_input, language=language)}):\n",
    "    print(chunk, end=\"\", flush=True)\n"
   ]
  },
  {
   "cell_type": "code",
   "execution_count": null,
   "id": "5995bb6d-9df2-4df7-91a6-c524de005e9d",
   "metadata": {},
   "outputs": [],
   "source": []
  }
 ],
 "metadata": {
  "kernelspec": {
   "display_name": "Python 3 (ipykernel)",
   "language": "python",
   "name": "python3"
  },
  "language_info": {
   "codemirror_mode": {
    "name": "ipython",
    "version": 3
   },
   "file_extension": ".py",
   "mimetype": "text/x-python",
   "name": "python",
   "nbconvert_exporter": "python",
   "pygments_lexer": "ipython3",
   "version": "3.8.19"
  }
 },
 "nbformat": 4,
 "nbformat_minor": 5
}
