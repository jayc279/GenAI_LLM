{
 "cells": [
  {
   "cell_type": "markdown",
   "id": "2a29b2d2-3947-440b-8ca7-e730c201eb71",
   "metadata": {},
   "source": [
    "### Query a PDF document read from a directory"
   ]
  },
  {
   "cell_type": "markdown",
   "id": "0dca312a-d3b7-418c-a2cc-fade0b2d3b57",
   "metadata": {},
   "source": [
    "For this model we will use **OpenAI** (requires an API Token to access)  \n",
    "checkout `Account setup` section in  \n",
    "https://platform.openai.com/docs/quickstart?context=python "
   ]
  },
  {
   "cell_type": "markdown",
   "id": "e44fd42b-02bf-4088-a72e-156645cbb34c",
   "metadata": {},
   "source": [
    "### Sample environmet file holding API Tokens\n",
    "import os                                                                                                                                                                                                                   \n",
    "SERPAPI_API_KEY=\"**Google**\"  \n",
    "HF_TOKEN=\"**HuggingFaces**\"    \n",
    "GITHUB_TOKEN=\"**GitHub**\"   \n",
    "OPENAI_API_KEY=\"**OpenAI**\"    \n",
    "  \n",
    "def set_environment():  \n",
    "    &nbsp;&nbsp;variable_dict = globals().items()  \n",
    "    &nbsp;&nbsp;for key, value in variable_dict:  \n",
    "        &nbsp;&nbsp;if \"API\" in key or \"ID\" in key or \"TOKEN\" in key:  \n",
    "            &nbsp;&nbsp;&nbsp;&nbsp;os.environ[key] = value  \n",
    "  "
   ]
  },
  {
   "cell_type": "code",
   "execution_count": 1,
   "id": "76bf19a8-f157-4dfd-833a-03627a9983e7",
   "metadata": {},
   "outputs": [],
   "source": [
    "%load_ext autoreload\n",
    "%autoreload 2\n",
    "import os\n",
    "from pathlib import Path\n",
    "import sys\n",
    "## READ your OPENAI_API_KEY from .env file -or- setup as ENV\n",
    "# os.environ['OPENAI_API_KEY'] = \"<your OpenAI access token>\"\n",
    "sys.path.append(r'..')\n",
    "from configs import set_environment\n",
    "set_environment()"
   ]
  },
  {
   "cell_type": "code",
   "execution_count": 2,
   "id": "f8aaede8-5216-4fe6-9720-33cc1cbcd715",
   "metadata": {},
   "outputs": [],
   "source": [
    "# Initial imports\n",
    "from langchain.llms import OpenAI\n",
    "from langchain.chains import LLMChain\n",
    "from langchain.prompts import PromptTemplate\n",
    "from langchain.chat_models import ChatOpenAI"
   ]
  },
  {
   "cell_type": "code",
   "execution_count": 3,
   "id": "0595ed66-736d-4a5f-aefa-b93dacd397b0",
   "metadata": {},
   "outputs": [],
   "source": [
    "# load related packaged to split, embed, store\n",
    "from langchain.embeddings import OpenAIEmbeddings\n",
    "from langchain.text_splitter import RecursiveCharacterTextSplitter\n",
    "from langchain.embeddings.openai import OpenAIEmbeddings\n",
    "from langchain.vectorstores import Chroma\n",
    "from langchain.chains import ConversationalRetrievalChain"
   ]
  },
  {
   "cell_type": "markdown",
   "id": "c2a13b40-55f4-4a66-ad92-1f5022a5fb4c",
   "metadata": {},
   "source": [
    "### Query PDF document"
   ]
  },
  {
   "cell_type": "code",
   "execution_count": 4,
   "id": "04152c43-84f3-4be6-9f8e-ab4f69dffc52",
   "metadata": {},
   "outputs": [],
   "source": [
    "# import PubMedLoader\n",
    "from langchain.document_loaders import PubMedLoader"
   ]
  },
  {
   "cell_type": "code",
   "execution_count": null,
   "id": "5341cfce-957a-4afd-a020-e9014c099848",
   "metadata": {},
   "outputs": [],
   "source": [
    "## PubMed filters you can use\n",
    "# PMC COVID-19 Collection\n",
    "# obesity overweight hereditary children risk factors (4k+)\n",
    "# mounica yanamandala"
   ]
  },
  {
   "cell_type": "code",
   "execution_count": 7,
   "id": "b620da73-883d-4066-a002-2d5fcdf04aa3",
   "metadata": {},
   "outputs": [],
   "source": [
    "# load documents based on a filter\n",
    "filter_name = \"mounica yanamandala\"\n",
    "loader = PubMedLoader(filter_name)   # requires xmltodict package\n",
    "docs = loader.load()"
   ]
  },
  {
   "cell_type": "code",
   "execution_count": 9,
   "id": "3bb292d3-f770-4331-b633-0fb829774617",
   "metadata": {},
   "outputs": [
    {
     "name": "stdout",
     "output_type": "stream",
     "text": [
      "3\n",
      "{'uid': '36378869', 'Title': 'Severe triple vessel disease secondary to IgG4-related coronary periarteritis.', 'Published': '2022-11-15', 'Copyright Information': '© 2022 Wiley Periodicals LLC.'}\n",
      "Genome editing of primary human cells with CRISPR-Cas9 is a powerful tool to study gene function. For many cell types, there are efficient protocols for editing with optimized plasmids for Cas9 and sgRNA expression. Vascular cells, however, remain refractory to plasmid-based delivery of CRISPR machinery for in vitro genome editing due to low transfection efficiency, poor expression of the Cas9 machinery, and toxic effects of the selection antibiotics. Here, we describe a method for high-efficiency editing of primary human vascular cells in vitro using nucleofection for direct delivery of sgRNA:Cas9-NLS ribonucleoprotein complexes. This method is more rapid and its high editing efficiency eliminates the need for additional selection steps. The edited cells can be employed in diverse applications, such as gene expression measurement or functional assays to assess various genetic perturbation effects in vitro. This method proves effective in vascular cells that are refractory to standard genome manipulation techniques using viral plasmid delivery. We anticipate that this technique will be applied to other non-vascular cell types that face similar barriers to efficient genome editing. © 2021 Wiley Periodicals LLC. Basic Protocol: CRISPR-Cas9 genome editing of primary human vascular cells in vitro.\n"
     ]
    }
   ],
   "source": [
    "# check loaded docs\n",
    "print(len(docs))\n",
    "print(docs[1].metadata)\n",
    "print(docs[2].page_content)"
   ]
  },
  {
   "cell_type": "code",
   "execution_count": 10,
   "id": "58f0debe-8251-44af-8591-053039c0d5b5",
   "metadata": {},
   "outputs": [],
   "source": [
    "# split document into chunks - chunk_size = 1000, and chunk_overlap = 150\n",
    "text_chunks = RecursiveCharacterTextSplitter(chunk_size=1000, chunk_overlap=150)\n",
    "\n",
    "# split document as per txt_chunks\n",
    "chunks = text_chunks.split_documents(docs)\n",
    "\n",
    "# get OpenAI Embeddings\n",
    "embeddings = OpenAIEmbeddings()\n",
    "\n",
    "# Use Chroma to store vectors of embeddings\n",
    "vector_store = Chroma.from_documents(chunks, embeddings)"
   ]
  },
  {
   "cell_type": "code",
   "execution_count": 13,
   "id": "185df5ca-66a2-42a9-b9e1-280d2bdc1566",
   "metadata": {},
   "outputs": [
    {
     "name": "stdout",
     "output_type": "stream",
     "text": [
      "4\n"
     ]
    },
    {
     "data": {
      "text/plain": [
       "Document(page_content='assays to assess various genetic perturbation effects in vitro. This method proves effective in vascular cells that are refractory to standard genome manipulation techniques using viral plasmid delivery. We anticipate that this technique will be applied to other non-vascular cell types that face similar barriers to efficient genome editing. © 2021 Wiley Periodicals LLC. Basic Protocol: CRISPR-Cas9 genome editing of primary human vascular cells in vitro.', metadata={'uid': '34748284', 'Title': 'CRISPR-Cas9 Genome Editing of Primary Human Vascular Cells In Vitro.', 'Published': '--', 'Copyright Information': '© 2021 Wiley Periodicals LLC.'})"
      ]
     },
     "execution_count": 13,
     "metadata": {},
     "output_type": "execute_result"
    }
   ],
   "source": [
    "# some verification\n",
    "print(len(chunks))\n",
    "chunks[3]"
   ]
  },
  {
   "cell_type": "code",
   "execution_count": 24,
   "id": "5d888894-d4ad-460a-b2a5-9b59dca61101",
   "metadata": {},
   "outputs": [
    {
     "name": "stdout",
     "output_type": "stream",
     "text": [
      "<class 'langchain_community.embeddings.openai.OpenAIEmbeddings'>\n",
      "<class 'str'> 1201\n",
      "[-0.024597116791355397, 0.01600828644121873, -0.014449125729533193, -0.0051210389643293035, -0.0017196139770701948, 0.01649216441729913, -0.016760985101200415, 0.0020531200222058026, -0.04526944638234542, -0.003555156897355884, -0.014220627589423536, 0.0179975617372625, -0.018508321409203984, -0.0003101941670524317, 0.0019455916089468972, 0.023024513369094092, 0.03475854683846292, -0.011445051513571726, -0.0031468850878686987, -0.009744759104647664]\n"
     ]
    }
   ],
   "source": [
    "# Embeddings are Numerical representation of text data - high dimensional vectors\n",
    "print(type(embeddings))\n",
    "str_ch2 = str(str(chunks[2]).split(' \\\\n')[0])   # split and convert to string\n",
    "print(type(str_ch2), len(str_ch2))\n",
    "\n",
    "## print part of chunk to view embeddings\n",
    "print(embeddings.embed_query(str_ch2)[:20])"
   ]
  },
  {
   "cell_type": "markdown",
   "id": "514bd333-0f51-411d-806f-06c5bf3395c8",
   "metadata": {},
   "source": [
    "### ChatGPT"
   ]
  },
  {
   "cell_type": "code",
   "execution_count": 25,
   "id": "12e5fd20-51dd-4f40-a65d-a2259e6cbff3",
   "metadata": {},
   "outputs": [],
   "source": [
    "# setup ChatOpenAI\n",
    "llm = ChatOpenAI(api_key=os.environ['OpenAI_API_KEY'], \n",
    "                 model='gpt-3.5-turbo', \n",
    "                 temperature=0.1, \n",
    "                 max_tokens=100)"
   ]
  },
  {
   "cell_type": "code",
   "execution_count": 26,
   "id": "447741e3-fc20-42a5-9ab7-23f492ed7561",
   "metadata": {},
   "outputs": [],
   "source": [
    "# retrieve document from vector store\n",
    "retriever = vector_store.as_retriever()"
   ]
  },
  {
   "cell_type": "code",
   "execution_count": 27,
   "id": "941179c7-6f78-42dd-9dea-086c1a77316d",
   "metadata": {},
   "outputs": [],
   "source": [
    "# setup retrieval chain\n",
    "conv_ret_chain = ConversationalRetrievalChain.from_llm(llm, retriever=retriever)"
   ]
  },
  {
   "cell_type": "code",
   "execution_count": null,
   "id": "7d744641-bf5b-4a71-859b-10561f0a4b2b",
   "metadata": {},
   "outputs": [],
   "source": [
    "# start asking questions\n",
    "session_chat = {}\n",
    "session_chat['history'] = []\n",
    "# print(type(session_chat))\n",
    "def ask_questions():\n",
    "  question = input(\"Enter your question: \")\n",
    "  if \"Thank\" in question:\n",
    "    print(\"Thank you for using ChatGPT\")\n",
    "    return\n",
    "  else:\n",
    "    response = conv_ret_chain.run({'question':question,\n",
    "                                  'chat_history':session_chat['history']})\n",
    "    print(response, end=\"\\n\\n\")\n",
    "    session_chat['history'].append((question, response))\n",
    "    ask_questions()"
   ]
  },
  {
   "cell_type": "code",
   "execution_count": 30,
   "id": "226203ee-4ffd-423a-bd1f-d0beec4eb5c8",
   "metadata": {},
   "outputs": [
    {
     "name": "stdin",
     "output_type": "stream",
     "text": [
      "Enter your question:  in 3 sentences summarize work of mounica yanamandala\n"
     ]
    },
    {
     "name": "stdout",
     "output_type": "stream",
     "text": [
      "Dr. Mounica Yanamandala's work focuses on developing efficient methods for genome editing of primary human vascular cells using CRISPR-Cas9 technology. The key aspects of her work include utilizing nucleofection for direct delivery of sgRNA:Cas9-NLS ribonucleoprotein complexes to overcome the low transfection efficiency and poor expression of the Cas9 machinery in vascular cells. This method allows for high-efficiency editing without the need for additional selection steps, making it more rapid and\n",
      "\n"
     ]
    },
    {
     "name": "stdin",
     "output_type": "stream",
     "text": [
      "Enter your question:  Thank You\n"
     ]
    },
    {
     "name": "stdout",
     "output_type": "stream",
     "text": [
      "Thank you for using ChatGPT\n"
     ]
    }
   ],
   "source": [
    "ask_questions()"
   ]
  },
  {
   "cell_type": "markdown",
   "id": "416f4b43-772b-4a10-ae33-82800a65da7a",
   "metadata": {},
   "source": [
    "### Training on a different filter"
   ]
  },
  {
   "cell_type": "code",
   "execution_count": 31,
   "id": "a4263ad6-a6d2-40eb-af65-a3e2100266a3",
   "metadata": {},
   "outputs": [
    {
     "name": "stdout",
     "output_type": "stream",
     "text": [
      "3\n",
      "{'uid': '38291504', 'Title': 'Weight development from childhood to motherhood-embodied experiences in women with pre-pregnancy obesity: a qualitative study.', 'Published': '2024-01-30', 'Copyright Information': '© 2024. The Author(s).'}\n",
      "Perioperative anaphylaxis (PA) is a severe condition that can be fatal, but data on PA mortality are scarce. The aim of this article is to review the epidemiology, elicitors and risk factors for PA mortality and identify knowledge gaps and areas for improvement regarding the management of severe PA. PA affects about 100 cases per million procedures. Mortality is rare, estimated at 3 to 5 cases per million procedures, but the PA mortality rate is higher than for other anaphylaxis aetiologies, at 1.4% to 4.8%. However, the data are incomplete. Published data mention neuromuscular blocking agents and antibiotics, mainly penicillin and cefazolin, as the main causes of fatal PA. Reported risk factors for fatal PA vary in different countries. Most frequently occurring comorbidities are obesity, male gender, cardiovascular diseases and ongoing treatment with beta-blockers. However, there are no clues about how these factors interact and the impact of individual risk factors. The pathophysiology of fatal PA is still not completely known. Genetic factors such as deficiency in PAF-acetyl hydrolase and hereditary alpha-tryptasemia, have been reported as modulators of severe anaphylaxis and possible targets for specific treatments. Our review underlines unmet needs in the field of fatal PA. Although we confirmed the need for timely administration of an adequate dose of adrenaline and the proper infusion of fluids, there is no evidence-based data on the proper dose of intravenous titrated adrenaline and which clinical manifestations would flag the need for fluid therapy. There are no large clinical studies supporting the administration of alternative vasopressors, such as glucagon and methylene blue. Further research on pathophysiological mechanisms of PA and its severity may address these issues and help clinicians to define new therapeutic approaches.\n"
     ]
    }
   ],
   "source": [
    "# load documents based on a filter\n",
    "filter_name = \"obesity overweight hereditary children risk factors\"\n",
    "loader = PubMedLoader(filter_name)   # requires xmltodict package\n",
    "docs = loader.load()\n",
    "\n",
    "# check loaded docs\n",
    "print(len(docs))\n",
    "print(docs[1].metadata)\n",
    "print(docs[2].page_content)"
   ]
  },
  {
   "cell_type": "code",
   "execution_count": 32,
   "id": "bb41cd8d-6802-42b5-8dec-7d20d649f501",
   "metadata": {},
   "outputs": [],
   "source": [
    "# split document into chunks - chunk_size = 1000, and chunk_overlap = 150\n",
    "text_chunks = RecursiveCharacterTextSplitter(chunk_size=1000, chunk_overlap=150)\n",
    "\n",
    "# split document as per txt_chunks\n",
    "chunks = text_chunks.split_documents(docs)\n",
    "\n",
    "# get OpenAI Embeddings\n",
    "embeddings = OpenAIEmbeddings()\n",
    "\n",
    "# Use Chroma to store vectors of embeddings\n",
    "vector_store = Chroma.from_documents(chunks, embeddings)"
   ]
  },
  {
   "cell_type": "code",
   "execution_count": 33,
   "id": "4ade8a00-5122-40ae-9b7e-151ae5af8e6a",
   "metadata": {},
   "outputs": [
    {
     "name": "stdout",
     "output_type": "stream",
     "text": [
      "9\n"
     ]
    },
    {
     "data": {
      "text/plain": [
       "Document(page_content=\"BACKGROUND: Pre-pregnancy obesity increases the risk of perinatal complications. Post-pregnancy is a time of preparation for the next pregnancy and lifestyle advice in antenatal care and postpartum follow-up is therefore recommended. However, behavioral changes are difficult to achieve, and a better understanding of pregnant women's perspectives and experiences of pre-pregnancy weight development is crucial.\\nMETHODS: We used a qualitative design and conducted semi-structured interviews with 14 women in Norway with pre-pregnancy obesity 3-12\\xa0months postpartum. Data were analyzed using thematic analysis.\", metadata={'uid': '38291504', 'Title': 'Weight development from childhood to motherhood-embodied experiences in women with pre-pregnancy obesity: a qualitative study.', 'Published': '2024-01-30', 'Copyright Information': '© 2024. The Author(s).'})"
      ]
     },
     "execution_count": 33,
     "metadata": {},
     "output_type": "execute_result"
    }
   ],
   "source": [
    "# some verification\n",
    "print(len(chunks))\n",
    "chunks[3]"
   ]
  },
  {
   "cell_type": "code",
   "execution_count": 34,
   "id": "45186e53-9fb2-4d3c-b2f0-70b462b0adbd",
   "metadata": {},
   "outputs": [
    {
     "name": "stdout",
     "output_type": "stream",
     "text": [
      "<class 'langchain_community.embeddings.openai.OpenAIEmbeddings'>\n",
      "<class 'str'> 899\n",
      "[0.012037605021886673, 0.00026436873838712365, 0.009219996393745215, -0.04371477992526467, 0.00052742984157341, 0.005997879416407295, -0.01654298914306304, 0.021020475494417143, -0.011500585758494348, -0.034787702198410805, -0.026711486427699306, 0.004010210115533481, -0.004557690926193827, 0.006318696318782238, -0.0014079324796599502, 0.02162026404141759, 0.04603023800983173, -0.008878256862495553, 0.019597723692419244, -0.013034926777136033]\n"
     ]
    }
   ],
   "source": [
    "# Embeddings are Numerical representation of text data - high dimensional vectors\n",
    "print(type(embeddings))\n",
    "str_ch2 = str(str(chunks[2]).split(' \\\\n')[0])   # split and convert to string\n",
    "print(type(str_ch2), len(str_ch2))\n",
    "\n",
    "## print part of chunk to view embeddings\n",
    "print(embeddings.embed_query(str_ch2)[:20])"
   ]
  },
  {
   "cell_type": "code",
   "execution_count": 35,
   "id": "4479020d-2184-485b-9447-2365cff3ccfe",
   "metadata": {},
   "outputs": [],
   "source": [
    "# retrieve document from vector store\n",
    "retriever = vector_store.as_retriever()\n",
    "\n",
    "# setup retrieval chain\n",
    "conv_ret_chain = ConversationalRetrievalChain.from_llm(llm, retriever=retriever)"
   ]
  },
  {
   "cell_type": "code",
   "execution_count": null,
   "id": "19388fa6-8962-4a01-a224-801be2e77604",
   "metadata": {},
   "outputs": [],
   "source": [
    "# start asking questions - clear history\n",
    "session_chat = {}\n",
    "session_chat['history'] = []"
   ]
  },
  {
   "cell_type": "code",
   "execution_count": 36,
   "id": "f4dd4e37-c2fc-426c-8e0c-b7a17c9badde",
   "metadata": {},
   "outputs": [
    {
     "name": "stdin",
     "output_type": "stream",
     "text": [
      "Enter your question:  summarize in 5 sentences obesity risk factors in children\n"
     ]
    },
    {
     "name": "stdout",
     "output_type": "stream",
     "text": [
      "I don't have specific information on obesity risk factors in children based on the context provided.\n",
      "\n"
     ]
    },
    {
     "name": "stdin",
     "output_type": "stream",
     "text": [
      "Enter your question:  summarize in 5 sentences obesity risk factors\n"
     ]
    },
    {
     "name": "stdout",
     "output_type": "stream",
     "text": [
      "Obesity risk factors identified in the study include unmet essential needs in childhood leading to poor diet and emotional eating patterns, genetic predisposition for obesity, challenging life course transitions, and turning points like illness or injuries, negative body awareness influencing behavioral patterns, and relationships, and struggles with food. Lifestyle factors such as consuming alcohol more frequently, smoking, and being overweight or obese were also associated with increased risk. The study suggests that lifestyle choices play a significant role in obesity risk, highlighting the importance of understanding\n",
      "\n"
     ]
    },
    {
     "name": "stdin",
     "output_type": "stream",
     "text": [
      "Enter your question:  what about age? does it affect obesity?\n"
     ]
    },
    {
     "name": "stdout",
     "output_type": "stream",
     "text": [
      "Based on the provided context, the study focused on pre-pregnancy obesity in women 3-12 months postpartum. The study did not specifically address the relationship between age and obesity risk factors. Therefore, based on this information, it is not possible to determine if age affects obesity risk factors.\n",
      "\n"
     ]
    },
    {
     "name": "stdin",
     "output_type": "stream",
     "text": [
      "Enter your question:  Thank You\n"
     ]
    },
    {
     "name": "stdout",
     "output_type": "stream",
     "text": [
      "Thank you for using ChatGPT\n"
     ]
    }
   ],
   "source": [
    "ask_questions()"
   ]
  },
  {
   "cell_type": "markdown",
   "id": "5a8e0072-bb63-41e6-80f8-e700b9304bb7",
   "metadata": {},
   "source": [
    "**Citation:**\n",
    "PMC Open Access Subset [Internet].  \n",
    "Bethesda (MD): National Library of Medicine. 2003 - [cited YEAR MONTH DAY].  \n",
    "Available from [ncbi.nlm.nih.gov](https://www.ncbi.nlm.nih.gov/pmc/tools/openftlist/)."
   ]
  },
  {
   "cell_type": "code",
   "execution_count": null,
   "id": "4fc64dc7-8a6e-4c6a-9fa4-197d15604be7",
   "metadata": {},
   "outputs": [],
   "source": []
  }
 ],
 "metadata": {
  "kernelspec": {
   "display_name": "Python 3 (ipykernel)",
   "language": "python",
   "name": "python3"
  },
  "language_info": {
   "codemirror_mode": {
    "name": "ipython",
    "version": 3
   },
   "file_extension": ".py",
   "mimetype": "text/x-python",
   "name": "python",
   "nbconvert_exporter": "python",
   "pygments_lexer": "ipython3",
   "version": "3.8.19"
  }
 },
 "nbformat": 4,
 "nbformat_minor": 5
}
